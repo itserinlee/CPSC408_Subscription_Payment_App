{
 "cells": [
  {
   "cell_type": "code",
   "execution_count": 9,
   "id": "2bbd7ba9",
   "metadata": {},
   "outputs": [],
   "source": [
    "import pandas as pd"
   ]
  },
  {
   "cell_type": "code",
   "execution_count": 16,
   "id": "26f5e704",
   "metadata": {},
   "outputs": [],
   "source": [
    "df = pd.read_csv(\"RandData.csv\")"
   ]
  },
  {
   "cell_type": "code",
   "execution_count": 20,
   "id": "14250767",
   "metadata": {},
   "outputs": [
    {
     "name": "stdout",
     "output_type": "stream",
     "text": [
      "<class 'pandas.core.frame.DataFrame'>\n",
      "RangeIndex: 500 entries, 0 to 499\n",
      "Data columns (total 36 columns):\n",
      " #   Column                    Non-Null Count  Dtype  \n",
      "---  ------                    --------------  -----  \n",
      " 0   cust_id                   500 non-null    int64  \n",
      " 1   cust_first_name           500 non-null    object \n",
      " 2   cust_last_name            500 non-null    object \n",
      " 3   cust_username             500 non-null    object \n",
      " 4   cust_password             500 non-null    object \n",
      " 5   cust_record_create_date   500 non-null    object \n",
      " 6   mag_id                    500 non-null    int64  \n",
      " 7   mag_name                  500 non-null    object \n",
      " 8   mag_cost                  500 non-null    float64\n",
      " 9   mag_record_status         500 non-null    int64  \n",
      " 10  mag_record_create_date    500 non-null    object \n",
      " 11  prof_cust_cont_id         500 non-null    int64  \n",
      " 12  prof_phone                500 non-null    object \n",
      " 13  prof_zip                  500 non-null    int64  \n",
      " 14  prof_state                500 non-null    object \n",
      " 15  prof_city                 500 non-null    object \n",
      " 16  prof_street_address       500 non-null    object \n",
      " 17  prof_contact_type         500 non-null    int64  \n",
      " 18  prof_record_update_stamp  500 non-null    object \n",
      " 19  prof_record_status        500 non-null    int64  \n",
      " 20  prof_start_date           500 non-null    object \n",
      " 21  prof_end_date             500 non-null    object \n",
      " 22  sub_id                    500 non-null    int64  \n",
      " 23  sub_num_mags_mailed       500 non-null    int64  \n",
      " 24  sub_payment_completed     500 non-null    int64  \n",
      " 25  sub_start_date            500 non-null    object \n",
      " 26  sub_end_date              500 non-null    object \n",
      " 27  pay_id                    500 non-null    int64  \n",
      " 28  pay_amount                500 non-null    float64\n",
      " 29  pay_type                  500 non-null    int64  \n",
      " 30  pay_date                  500 non-null    object \n",
      " 31  pay_card_num              500 non-null    int64  \n",
      " 32  pay_card_code             500 non-null    int64  \n",
      " 33  pay_record_create_date    500 non-null    object \n",
      " 34  category                  500 non-null    object \n",
      " 35  Unnamed: 35               0 non-null      float64\n",
      "dtypes: float64(3), int64(14), object(19)\n",
      "memory usage: 140.8+ KB\n"
     ]
    }
   ],
   "source": [
    "df.info()"
   ]
  },
  {
   "cell_type": "code",
   "execution_count": null,
   "id": "d2aef8fa",
   "metadata": {},
   "outputs": [],
   "source": []
  }
 ],
 "metadata": {
  "kernelspec": {
   "display_name": "Python 3",
   "language": "python",
   "name": "python3"
  },
  "language_info": {
   "codemirror_mode": {
    "name": "ipython",
    "version": 3
   },
   "file_extension": ".py",
   "mimetype": "text/x-python",
   "name": "python",
   "nbconvert_exporter": "python",
   "pygments_lexer": "ipython3",
   "version": "3.8.8"
  }
 },
 "nbformat": 4,
 "nbformat_minor": 5
}
